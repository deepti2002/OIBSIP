{
 "cells": [
  {
   "cell_type": "markdown",
   "id": "4bc8da5c",
   "metadata": {},
   "source": [
    "# #########################################################\n",
    "# Name: Deepti Lalwani\n",
    "### Date: 11 December 2023\n",
    "# Company: Oasis Infobyte\n",
    "### Description: Python Code Showcase for IRIS FLOWER CLASSIFICATION (Data Science)\n",
    "\n",
    "This Python script demonstrates a specific aspect of my work at Oasis Infobyte.\n",
    "# #########################################################"
   ]
  },
  {
   "cell_type": "code",
   "execution_count": 1,
   "id": "0ee935f6",
   "metadata": {},
   "outputs": [],
   "source": [
    "import pandas as pd\n",
    "from sklearn.model_selection import train_test_split\n",
    "from sklearn.preprocessing import StandardScaler\n",
    "from sklearn.neighbors import KNeighborsClassifier\n",
    "from sklearn.metrics import accuracy_score, classification_report, confusion_matrix\n",
    "\n"
   ]
  },
  {
   "cell_type": "markdown",
   "id": "8ed01ec9",
   "metadata": {},
   "source": [
    "#### Load and Preprocess the Data:"
   ]
  },
  {
   "cell_type": "code",
   "execution_count": 2,
   "id": "de31cba1",
   "metadata": {},
   "outputs": [],
   "source": [
    "df = pd.read_csv(\"/Users/deeptilalwani/Documents/Data Science/oasis infobyte internship/task 1/iris.csv\")"
   ]
  },
  {
   "cell_type": "code",
   "execution_count": 3,
   "id": "8aed1916",
   "metadata": {},
   "outputs": [
    {
     "name": "stdout",
     "output_type": "stream",
     "text": [
      "   Id  SepalLengthCm  SepalWidthCm  PetalLengthCm  PetalWidthCm      Species\n",
      "0   1            5.1           3.5            1.4           0.2  Iris-setosa\n",
      "1   2            4.9           3.0            1.4           0.2  Iris-setosa\n",
      "2   3            4.7           3.2            1.3           0.2  Iris-setosa\n",
      "3   4            4.6           3.1            1.5           0.2  Iris-setosa\n",
      "4   5            5.0           3.6            1.4           0.2  Iris-setosa\n"
     ]
    }
   ],
   "source": [
    "print(df.head())"
   ]
  },
  {
   "cell_type": "code",
   "execution_count": 4,
   "id": "3c219f07",
   "metadata": {},
   "outputs": [],
   "source": [
    "# Drop the 'Id' column as it is not useful for classification\n",
    "df = df.drop('Id', axis=1)\n"
   ]
  },
  {
   "cell_type": "code",
   "execution_count": 5,
   "id": "10485ea2",
   "metadata": {},
   "outputs": [],
   "source": [
    "# Split the data into features (X) and target variable (y)\n",
    "X = df.drop('Species', axis=1)\n",
    "y = df['Species']"
   ]
  },
  {
   "cell_type": "code",
   "execution_count": 6,
   "id": "169a51bf",
   "metadata": {},
   "outputs": [],
   "source": [
    "# Split the data into training and testing sets\n",
    "X_train, X_test, y_train, y_test = train_test_split(X, y, test_size=0.2, random_state=42)"
   ]
  },
  {
   "cell_type": "markdown",
   "id": "bc630f7b",
   "metadata": {},
   "source": [
    "#### Feature Scaling: "
   ]
  },
  {
   "cell_type": "code",
   "execution_count": 7,
   "id": "a51d24b3",
   "metadata": {},
   "outputs": [],
   "source": [
    "# Standardize the feature values\n",
    "scaler = StandardScaler()\n",
    "X_train = scaler.fit_transform(X_train)\n",
    "X_test = scaler.transform(X_test)"
   ]
  },
  {
   "cell_type": "markdown",
   "id": "cfb594bb",
   "metadata": {},
   "source": [
    "#### Train the Model:"
   ]
  },
  {
   "cell_type": "code",
   "execution_count": 8,
   "id": "7ec55ff9",
   "metadata": {},
   "outputs": [
    {
     "data": {
      "text/html": [
       "<style>#sk-container-id-1 {color: black;background-color: white;}#sk-container-id-1 pre{padding: 0;}#sk-container-id-1 div.sk-toggleable {background-color: white;}#sk-container-id-1 label.sk-toggleable__label {cursor: pointer;display: block;width: 100%;margin-bottom: 0;padding: 0.3em;box-sizing: border-box;text-align: center;}#sk-container-id-1 label.sk-toggleable__label-arrow:before {content: \"▸\";float: left;margin-right: 0.25em;color: #696969;}#sk-container-id-1 label.sk-toggleable__label-arrow:hover:before {color: black;}#sk-container-id-1 div.sk-estimator:hover label.sk-toggleable__label-arrow:before {color: black;}#sk-container-id-1 div.sk-toggleable__content {max-height: 0;max-width: 0;overflow: hidden;text-align: left;background-color: #f0f8ff;}#sk-container-id-1 div.sk-toggleable__content pre {margin: 0.2em;color: black;border-radius: 0.25em;background-color: #f0f8ff;}#sk-container-id-1 input.sk-toggleable__control:checked~div.sk-toggleable__content {max-height: 200px;max-width: 100%;overflow: auto;}#sk-container-id-1 input.sk-toggleable__control:checked~label.sk-toggleable__label-arrow:before {content: \"▾\";}#sk-container-id-1 div.sk-estimator input.sk-toggleable__control:checked~label.sk-toggleable__label {background-color: #d4ebff;}#sk-container-id-1 div.sk-label input.sk-toggleable__control:checked~label.sk-toggleable__label {background-color: #d4ebff;}#sk-container-id-1 input.sk-hidden--visually {border: 0;clip: rect(1px 1px 1px 1px);clip: rect(1px, 1px, 1px, 1px);height: 1px;margin: -1px;overflow: hidden;padding: 0;position: absolute;width: 1px;}#sk-container-id-1 div.sk-estimator {font-family: monospace;background-color: #f0f8ff;border: 1px dotted black;border-radius: 0.25em;box-sizing: border-box;margin-bottom: 0.5em;}#sk-container-id-1 div.sk-estimator:hover {background-color: #d4ebff;}#sk-container-id-1 div.sk-parallel-item::after {content: \"\";width: 100%;border-bottom: 1px solid gray;flex-grow: 1;}#sk-container-id-1 div.sk-label:hover label.sk-toggleable__label {background-color: #d4ebff;}#sk-container-id-1 div.sk-serial::before {content: \"\";position: absolute;border-left: 1px solid gray;box-sizing: border-box;top: 0;bottom: 0;left: 50%;z-index: 0;}#sk-container-id-1 div.sk-serial {display: flex;flex-direction: column;align-items: center;background-color: white;padding-right: 0.2em;padding-left: 0.2em;position: relative;}#sk-container-id-1 div.sk-item {position: relative;z-index: 1;}#sk-container-id-1 div.sk-parallel {display: flex;align-items: stretch;justify-content: center;background-color: white;position: relative;}#sk-container-id-1 div.sk-item::before, #sk-container-id-1 div.sk-parallel-item::before {content: \"\";position: absolute;border-left: 1px solid gray;box-sizing: border-box;top: 0;bottom: 0;left: 50%;z-index: -1;}#sk-container-id-1 div.sk-parallel-item {display: flex;flex-direction: column;z-index: 1;position: relative;background-color: white;}#sk-container-id-1 div.sk-parallel-item:first-child::after {align-self: flex-end;width: 50%;}#sk-container-id-1 div.sk-parallel-item:last-child::after {align-self: flex-start;width: 50%;}#sk-container-id-1 div.sk-parallel-item:only-child::after {width: 0;}#sk-container-id-1 div.sk-dashed-wrapped {border: 1px dashed gray;margin: 0 0.4em 0.5em 0.4em;box-sizing: border-box;padding-bottom: 0.4em;background-color: white;}#sk-container-id-1 div.sk-label label {font-family: monospace;font-weight: bold;display: inline-block;line-height: 1.2em;}#sk-container-id-1 div.sk-label-container {text-align: center;}#sk-container-id-1 div.sk-container {/* jupyter's `normalize.less` sets `[hidden] { display: none; }` but bootstrap.min.css set `[hidden] { display: none !important; }` so we also need the `!important` here to be able to override the default hidden behavior on the sphinx rendered scikit-learn.org. See: https://github.com/scikit-learn/scikit-learn/issues/21755 */display: inline-block !important;position: relative;}#sk-container-id-1 div.sk-text-repr-fallback {display: none;}</style><div id=\"sk-container-id-1\" class=\"sk-top-container\"><div class=\"sk-text-repr-fallback\"><pre>KNeighborsClassifier(n_neighbors=3)</pre><b>In a Jupyter environment, please rerun this cell to show the HTML representation or trust the notebook. <br />On GitHub, the HTML representation is unable to render, please try loading this page with nbviewer.org.</b></div><div class=\"sk-container\" hidden><div class=\"sk-item\"><div class=\"sk-estimator sk-toggleable\"><input class=\"sk-toggleable__control sk-hidden--visually\" id=\"sk-estimator-id-1\" type=\"checkbox\" checked><label for=\"sk-estimator-id-1\" class=\"sk-toggleable__label sk-toggleable__label-arrow\">KNeighborsClassifier</label><div class=\"sk-toggleable__content\"><pre>KNeighborsClassifier(n_neighbors=3)</pre></div></div></div></div></div>"
      ],
      "text/plain": [
       "KNeighborsClassifier(n_neighbors=3)"
      ]
     },
     "execution_count": 8,
     "metadata": {},
     "output_type": "execute_result"
    }
   ],
   "source": [
    "# Choose a classifier (K-nearest neighbors in this case)\n",
    "knn_classifier = KNeighborsClassifier(n_neighbors=3)\n",
    "\n",
    "# Train the model\n",
    "knn_classifier.fit(X_train, y_train)"
   ]
  },
  {
   "cell_type": "code",
   "execution_count": 9,
   "id": "26b407a1",
   "metadata": {},
   "outputs": [],
   "source": [
    "# Make predictions on the test set\n",
    "y_pred = knn_classifier.predict(X_test)\n"
   ]
  },
  {
   "cell_type": "markdown",
   "id": "e87fb89f",
   "metadata": {},
   "source": [
    "#### Evaluate the Model:"
   ]
  },
  {
   "cell_type": "code",
   "execution_count": 10,
   "id": "bfcd8afd",
   "metadata": {},
   "outputs": [
    {
     "name": "stdout",
     "output_type": "stream",
     "text": [
      "Accuracy: 1.0\n",
      "Confusion Matrix:\n",
      "[[10  0  0]\n",
      " [ 0  9  0]\n",
      " [ 0  0 11]]\n",
      "Classification Report:\n",
      "                 precision    recall  f1-score   support\n",
      "\n",
      "    Iris-setosa       1.00      1.00      1.00        10\n",
      "Iris-versicolor       1.00      1.00      1.00         9\n",
      " Iris-virginica       1.00      1.00      1.00        11\n",
      "\n",
      "       accuracy                           1.00        30\n",
      "      macro avg       1.00      1.00      1.00        30\n",
      "   weighted avg       1.00      1.00      1.00        30\n",
      "\n"
     ]
    }
   ],
   "source": [
    "# Evaluate the model performance\n",
    "accuracy = accuracy_score(y_test, y_pred)\n",
    "conf_matrix = confusion_matrix(y_test, y_pred)\n",
    "classification_rep = classification_report(y_test, y_pred)\n",
    "\n",
    "print(f\"Accuracy: {accuracy}\")\n",
    "print(\"Confusion Matrix:\")\n",
    "print(conf_matrix)\n",
    "print(\"Classification Report:\")\n",
    "print(classification_rep)"
   ]
  },
  {
   "cell_type": "markdown",
   "id": "b10f1225",
   "metadata": {},
   "source": [
    "## Accuracy:\n",
    "\n",
    "##### Accuracy is the overall correctness of the model, and a value of 1.0 means perfect accuracy."
   ]
  },
  {
   "cell_type": "markdown",
   "id": "ba4cd2db",
   "metadata": {},
   "source": [
    "### Confusion Matrix:\n",
    "\n",
    "#### Diagonal elements represent the number of instances that were correctly classified for each class.\n",
    "#### In our case, all diagonal elements are non-zero, indicating perfect classification.\n",
    "#### Off-diagonal elements are all zero, suggesting that there are no misclassifications.\n",
    "\n",
    "### Classification Report:\n",
    "\n",
    "#### Precision, recall, and F1-score are metrics used to evaluate the performance of a classification model.\n",
    "#### The values of 1.00 indicate perfect performance for each class.\n",
    "\n",
    "### Accuracy:\n",
    "\n",
    "#### Accuracy is the overall correctness of the model, and a value of 1.0 means perfect accuracy."
   ]
  },
  {
   "cell_type": "markdown",
   "id": "fce90d3b",
   "metadata": {},
   "source": [
    "# It looks like our machine learning model achieved perfect accuracy (1.0), which means it correctly classified all instances in your test set. The confusion matrix and classification report further confirm this by showing zeros in off-diagonal elements and perfect precision, recall, and F1-score values for each class.\n",
    "\n"
   ]
  },
  {
   "cell_type": "code",
   "execution_count": 11,
   "id": "35afe955",
   "metadata": {},
   "outputs": [
    {
     "data": {
      "image/png": "[encoded data removed]",
      "text/plain": [
       "<Figure size 800x600 with 1 Axes>"
      ]
     },
     "metadata": {},
     "output_type": "display_data"
    }
   ],
   "source": [
    "import seaborn as sns\n",
    "import matplotlib.pyplot as plt\n",
    "\n",
    "# Visualize Confusion Matrix\n",
    "plt.figure(figsize=(8, 6))\n",
    "sns.heatmap(conf_matrix, annot=True, fmt=\"d\", cmap=\"Blues\", cbar=False)\n",
    "plt.title('Confusion Matrix')\n",
    "plt.xlabel('Predicted Labels')\n",
    "plt.ylabel('True Labels')\n",
    "plt.show()"
   ]
  },
  {
   "cell_type": "code",
   "execution_count": 12,
   "id": "0ca5a2c6",
   "metadata": {},
   "outputs": [],
   "source": [
    "# Let's consider New Data to predict class labels of unseen data"
   ]
  },
  {
   "cell_type": "code",
   "execution_count": 13,
   "id": "9df0097f",
   "metadata": {},
   "outputs": [],
   "source": [
    "# Example new data\n",
    "new_data = pd.DataFrame({\n",
    "    'SepalLengthCm': [5.1, 6.0, 7.3],\n",
    "    'SepalWidthCm': [3.5, 3.0, 2.8],\n",
    "    'PetalLengthCm': [1.4, 4.8, 6.5],\n",
    "    'PetalWidthCm': [0.2, 1.4, 2.3]\n",
    "})"
   ]
  },
  {
   "cell_type": "code",
   "execution_count": 14,
   "id": "356c5af1",
   "metadata": {},
   "outputs": [],
   "source": [
    "new_data_scaled = scaler.transform(new_data)  # Using the same scaler from training\n"
   ]
  },
  {
   "cell_type": "code",
   "execution_count": 15,
   "id": "bb4e05db",
   "metadata": {},
   "outputs": [],
   "source": [
    "# Make predictions for the new data\n",
    "new_predictions = knn_classifier.predict(new_data_scaled)"
   ]
  },
  {
   "cell_type": "markdown",
   "id": "488afddc",
   "metadata": {},
   "source": [
    "#### Inspect Predictions:"
   ]
  },
  {
   "cell_type": "code",
   "execution_count": 16,
   "id": "3096a86d",
   "metadata": {},
   "outputs": [
    {
     "name": "stdout",
     "output_type": "stream",
     "text": [
      "Predicted Class Labels for New Data:\n",
      "['Iris-setosa' 'Iris-versicolor' 'Iris-virginica']\n"
     ]
    }
   ],
   "source": [
    "print(\"Predicted Class Labels for New Data:\")\n",
    "print(new_predictions)"
   ]
  },
  {
   "cell_type": "code",
   "execution_count": 17,
   "id": "7334dca9",
   "metadata": {},
   "outputs": [
    {
     "name": "stdout",
     "output_type": "stream",
     "text": [
      "New Data with Predicted Class Labels:\n",
      "   SepalLengthCm  SepalWidthCm  PetalLengthCm  PetalWidthCm PredictedSpecies\n",
      "0            5.1           3.5            1.4           0.2      Iris-setosa\n",
      "1            6.0           3.0            4.8           1.4  Iris-versicolor\n",
      "2            7.3           2.8            6.5           2.3   Iris-virginica\n"
     ]
    }
   ],
   "source": [
    "# Display the new data with predicted class labels\n",
    "new_data_with_predictions = pd.concat([new_data, pd.DataFrame({'PredictedSpecies': new_predictions})], axis=1)\n",
    "print(\"New Data with Predicted Class Labels:\")\n",
    "print(new_data_with_predictions)"
   ]
  },
  {
   "cell_type": "code",
   "execution_count": null,
   "id": "8477de4c",
   "metadata": {},
   "outputs": [],
   "source": []
  }
 ],
 "metadata": {
  "kernelspec": {
   "display_name": "Python 3 (ipykernel)",
   "language": "python",
   "name": "python3"
  },
  "language_info": {
   "codemirror_mode": {
    "name": "ipython",
    "version": 3
   },
   "file_extension": ".py",
   "mimetype": "text/x-python",
   "name": "python",
   "nbconvert_exporter": "python",
   "pygments_lexer": "ipython3",
   "version": "3.10.9"
  }
 },
 "nbformat": 4,
 "nbformat_minor": 5
}
